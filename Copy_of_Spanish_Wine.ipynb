{
  "nbformat": 4,
  "nbformat_minor": 0,
  "metadata": {
    "colab": {
      "provenance": [],
      "authorship_tag": "ABX9TyPQ3WnrfQd2a46zTY/TXBdZ",
      "include_colab_link": true
    },
    "kernelspec": {
      "name": "python3",
      "display_name": "Python 3"
    },
    "language_info": {
      "name": "python"
    }
  },
  "cells": [
    {
      "cell_type": "markdown",
      "metadata": {
        "id": "view-in-github",
        "colab_type": "text"
      },
      "source": [
        "<a href=\"https://colab.research.google.com/github/Soichiro-Gardinner/SPanish_Wine/blob/main/Copy_of_Spanish_Wine.ipynb\" target=\"_parent\"><img src=\"https://colab.research.google.com/assets/colab-badge.svg\" alt=\"Open In Colab\"/></a>"
      ]
    },
    {
      "cell_type": "markdown",
      "source": [
        "# **<font color='#fba00f'>Wine Quality Classification</font>**\n",
        "## **Introduction**\n",
        "- In this notebook, we will perform a wine quality classification task using the given dataset. The goal is to predict the quality rating of the wine based on various features."
      ],
      "metadata": {
        "id": "f7T4NjirEqCA"
      }
    },
    {
      "cell_type": "markdown",
      "source": [
        "## **1. <font color='#fb00f'>Data Loading and Preprocessing</font>**"
      ],
      "metadata": {
        "id": "-4KrIeAcxch4"
      }
    },
    {
      "cell_type": "code",
      "source": [
        "# Import libraries:\n",
        "import pandas as pd"
      ],
      "metadata": {
        "id": "QWh668AC_-Jt"
      },
      "execution_count": 1,
      "outputs": []
    },
    {
      "cell_type": "code",
      "execution_count": 2,
      "metadata": {
        "colab": {
          "base_uri": "https://localhost:8080/",
          "height": 206
        },
        "id": "QGfW778L9zbz",
        "outputId": "8f43bba0-d133-41d6-f592-ceeed5c90be2"
      },
      "outputs": [
        {
          "output_type": "execute_result",
          "data": {
            "text/plain": [
              "          winery           wine  year  rating  num_reviews country  \\\n",
              "0  Teso La Monja          Tinto  2013     4.9           58  Espana   \n",
              "1         Artadi  Vina El Pison  2018     4.9           31  Espana   \n",
              "2   Vega Sicilia          Unico  2009     4.8         1793  Espana   \n",
              "3   Vega Sicilia          Unico  1999     4.8         1705  Espana   \n",
              "4   Vega Sicilia          Unico  1996     4.8         1309  Espana   \n",
              "\n",
              "             region   price                  type  body  acidity  \n",
              "0              Toro  995.00              Toro Red   5.0      3.0  \n",
              "1    Vino de Espana  313.50           Tempranillo   4.0      2.0  \n",
              "2  Ribera del Duero  324.95  Ribera Del Duero Red   5.0      3.0  \n",
              "3  Ribera del Duero  692.96  Ribera Del Duero Red   5.0      3.0  \n",
              "4  Ribera del Duero  778.06  Ribera Del Duero Red   5.0      3.0  "
            ],
            "text/html": [
              "\n",
              "  <div id=\"df-35fa392e-5941-493f-8228-b4dd459f1534\">\n",
              "    <div class=\"colab-df-container\">\n",
              "      <div>\n",
              "<style scoped>\n",
              "    .dataframe tbody tr th:only-of-type {\n",
              "        vertical-align: middle;\n",
              "    }\n",
              "\n",
              "    .dataframe tbody tr th {\n",
              "        vertical-align: top;\n",
              "    }\n",
              "\n",
              "    .dataframe thead th {\n",
              "        text-align: right;\n",
              "    }\n",
              "</style>\n",
              "<table border=\"1\" class=\"dataframe\">\n",
              "  <thead>\n",
              "    <tr style=\"text-align: right;\">\n",
              "      <th></th>\n",
              "      <th>winery</th>\n",
              "      <th>wine</th>\n",
              "      <th>year</th>\n",
              "      <th>rating</th>\n",
              "      <th>num_reviews</th>\n",
              "      <th>country</th>\n",
              "      <th>region</th>\n",
              "      <th>price</th>\n",
              "      <th>type</th>\n",
              "      <th>body</th>\n",
              "      <th>acidity</th>\n",
              "    </tr>\n",
              "  </thead>\n",
              "  <tbody>\n",
              "    <tr>\n",
              "      <th>0</th>\n",
              "      <td>Teso La Monja</td>\n",
              "      <td>Tinto</td>\n",
              "      <td>2013</td>\n",
              "      <td>4.9</td>\n",
              "      <td>58</td>\n",
              "      <td>Espana</td>\n",
              "      <td>Toro</td>\n",
              "      <td>995.00</td>\n",
              "      <td>Toro Red</td>\n",
              "      <td>5.0</td>\n",
              "      <td>3.0</td>\n",
              "    </tr>\n",
              "    <tr>\n",
              "      <th>1</th>\n",
              "      <td>Artadi</td>\n",
              "      <td>Vina El Pison</td>\n",
              "      <td>2018</td>\n",
              "      <td>4.9</td>\n",
              "      <td>31</td>\n",
              "      <td>Espana</td>\n",
              "      <td>Vino de Espana</td>\n",
              "      <td>313.50</td>\n",
              "      <td>Tempranillo</td>\n",
              "      <td>4.0</td>\n",
              "      <td>2.0</td>\n",
              "    </tr>\n",
              "    <tr>\n",
              "      <th>2</th>\n",
              "      <td>Vega Sicilia</td>\n",
              "      <td>Unico</td>\n",
              "      <td>2009</td>\n",
              "      <td>4.8</td>\n",
              "      <td>1793</td>\n",
              "      <td>Espana</td>\n",
              "      <td>Ribera del Duero</td>\n",
              "      <td>324.95</td>\n",
              "      <td>Ribera Del Duero Red</td>\n",
              "      <td>5.0</td>\n",
              "      <td>3.0</td>\n",
              "    </tr>\n",
              "    <tr>\n",
              "      <th>3</th>\n",
              "      <td>Vega Sicilia</td>\n",
              "      <td>Unico</td>\n",
              "      <td>1999</td>\n",
              "      <td>4.8</td>\n",
              "      <td>1705</td>\n",
              "      <td>Espana</td>\n",
              "      <td>Ribera del Duero</td>\n",
              "      <td>692.96</td>\n",
              "      <td>Ribera Del Duero Red</td>\n",
              "      <td>5.0</td>\n",
              "      <td>3.0</td>\n",
              "    </tr>\n",
              "    <tr>\n",
              "      <th>4</th>\n",
              "      <td>Vega Sicilia</td>\n",
              "      <td>Unico</td>\n",
              "      <td>1996</td>\n",
              "      <td>4.8</td>\n",
              "      <td>1309</td>\n",
              "      <td>Espana</td>\n",
              "      <td>Ribera del Duero</td>\n",
              "      <td>778.06</td>\n",
              "      <td>Ribera Del Duero Red</td>\n",
              "      <td>5.0</td>\n",
              "      <td>3.0</td>\n",
              "    </tr>\n",
              "  </tbody>\n",
              "</table>\n",
              "</div>\n",
              "      <button class=\"colab-df-convert\" onclick=\"convertToInteractive('df-35fa392e-5941-493f-8228-b4dd459f1534')\"\n",
              "              title=\"Convert this dataframe to an interactive table.\"\n",
              "              style=\"display:none;\">\n",
              "        \n",
              "  <svg xmlns=\"http://www.w3.org/2000/svg\" height=\"24px\"viewBox=\"0 0 24 24\"\n",
              "       width=\"24px\">\n",
              "    <path d=\"M0 0h24v24H0V0z\" fill=\"none\"/>\n",
              "    <path d=\"M18.56 5.44l.94 2.06.94-2.06 2.06-.94-2.06-.94-.94-2.06-.94 2.06-2.06.94zm-11 1L8.5 8.5l.94-2.06 2.06-.94-2.06-.94L8.5 2.5l-.94 2.06-2.06.94zm10 10l.94 2.06.94-2.06 2.06-.94-2.06-.94-.94-2.06-.94 2.06-2.06.94z\"/><path d=\"M17.41 7.96l-1.37-1.37c-.4-.4-.92-.59-1.43-.59-.52 0-1.04.2-1.43.59L10.3 9.45l-7.72 7.72c-.78.78-.78 2.05 0 2.83L4 21.41c.39.39.9.59 1.41.59.51 0 1.02-.2 1.41-.59l7.78-7.78 2.81-2.81c.8-.78.8-2.07 0-2.86zM5.41 20L4 18.59l7.72-7.72 1.47 1.35L5.41 20z\"/>\n",
              "  </svg>\n",
              "      </button>\n",
              "      \n",
              "  <style>\n",
              "    .colab-df-container {\n",
              "      display:flex;\n",
              "      flex-wrap:wrap;\n",
              "      gap: 12px;\n",
              "    }\n",
              "\n",
              "    .colab-df-convert {\n",
              "      background-color: #E8F0FE;\n",
              "      border: none;\n",
              "      border-radius: 50%;\n",
              "      cursor: pointer;\n",
              "      display: none;\n",
              "      fill: #1967D2;\n",
              "      height: 32px;\n",
              "      padding: 0 0 0 0;\n",
              "      width: 32px;\n",
              "    }\n",
              "\n",
              "    .colab-df-convert:hover {\n",
              "      background-color: #E2EBFA;\n",
              "      box-shadow: 0px 1px 2px rgba(60, 64, 67, 0.3), 0px 1px 3px 1px rgba(60, 64, 67, 0.15);\n",
              "      fill: #174EA6;\n",
              "    }\n",
              "\n",
              "    [theme=dark] .colab-df-convert {\n",
              "      background-color: #3B4455;\n",
              "      fill: #D2E3FC;\n",
              "    }\n",
              "\n",
              "    [theme=dark] .colab-df-convert:hover {\n",
              "      background-color: #434B5C;\n",
              "      box-shadow: 0px 1px 3px 1px rgba(0, 0, 0, 0.15);\n",
              "      filter: drop-shadow(0px 1px 2px rgba(0, 0, 0, 0.3));\n",
              "      fill: #FFFFFF;\n",
              "    }\n",
              "  </style>\n",
              "\n",
              "      <script>\n",
              "        const buttonEl =\n",
              "          document.querySelector('#df-35fa392e-5941-493f-8228-b4dd459f1534 button.colab-df-convert');\n",
              "        buttonEl.style.display =\n",
              "          google.colab.kernel.accessAllowed ? 'block' : 'none';\n",
              "\n",
              "        async function convertToInteractive(key) {\n",
              "          const element = document.querySelector('#df-35fa392e-5941-493f-8228-b4dd459f1534');\n",
              "          const dataTable =\n",
              "            await google.colab.kernel.invokeFunction('convertToInteractive',\n",
              "                                                     [key], {});\n",
              "          if (!dataTable) return;\n",
              "\n",
              "          const docLinkHtml = 'Like what you see? Visit the ' +\n",
              "            '<a target=\"_blank\" href=https://colab.research.google.com/notebooks/data_table.ipynb>data table notebook</a>'\n",
              "            + ' to learn more about interactive tables.';\n",
              "          element.innerHTML = '';\n",
              "          dataTable['output_type'] = 'display_data';\n",
              "          await google.colab.output.renderOutput(dataTable, element);\n",
              "          const docLink = document.createElement('div');\n",
              "          docLink.innerHTML = docLinkHtml;\n",
              "          element.appendChild(docLink);\n",
              "        }\n",
              "      </script>\n",
              "    </div>\n",
              "  </div>\n",
              "  "
            ]
          },
          "metadata": {},
          "execution_count": 2
        }
      ],
      "source": [
        "# Read_Wine Data\n",
        "S_wine = \"/content/wines_SPA.csv\"\n",
        "df = pd.read_csv(S_wine)\n",
        "df.head()"
      ]
    },
    {
      "cell_type": "code",
      "source": [
        "# Looking for nulls and Data types\n",
        "df.info()"
      ],
      "metadata": {
        "colab": {
          "base_uri": "https://localhost:8080/"
        },
        "id": "G8WcBgbJAPRs",
        "outputId": "e8800162-ddd0-408d-f4b2-26411d03e580"
      },
      "execution_count": 3,
      "outputs": [
        {
          "output_type": "stream",
          "name": "stdout",
          "text": [
            "<class 'pandas.core.frame.DataFrame'>\n",
            "RangeIndex: 7500 entries, 0 to 7499\n",
            "Data columns (total 11 columns):\n",
            " #   Column       Non-Null Count  Dtype  \n",
            "---  ------       --------------  -----  \n",
            " 0   winery       7500 non-null   object \n",
            " 1   wine         7500 non-null   object \n",
            " 2   year         7498 non-null   object \n",
            " 3   rating       7500 non-null   float64\n",
            " 4   num_reviews  7500 non-null   int64  \n",
            " 5   country      7500 non-null   object \n",
            " 6   region       7500 non-null   object \n",
            " 7   price        7500 non-null   float64\n",
            " 8   type         6955 non-null   object \n",
            " 9   body         6331 non-null   float64\n",
            " 10  acidity      6331 non-null   float64\n",
            "dtypes: float64(4), int64(1), object(6)\n",
            "memory usage: 644.7+ KB\n"
          ]
        }
      ]
    },
    {
      "cell_type": "code",
      "source": [
        "df.shape"
      ],
      "metadata": {
        "colab": {
          "base_uri": "https://localhost:8080/"
        },
        "id": "j0TRGqeVQRQC",
        "outputId": "e8f642ec-e729-4095-b11b-8e3942ec43e4"
      },
      "execution_count": 4,
      "outputs": [
        {
          "output_type": "execute_result",
          "data": {
            "text/plain": [
              "(7500, 11)"
            ]
          },
          "metadata": {},
          "execution_count": 4
        }
      ]
    },
    {
      "cell_type": "markdown",
      "source": [
        "## **<font color='#fb00f'>1.2 Data Preprocessing</font>**\n",
        "- Next, we will preprocess the data by dropping unnecessary columns, handling duplicates, and filling in missing values.\n"
      ],
      "metadata": {
        "id": "tHRyti-gYn_L"
      }
    },
    {
      "cell_type": "code",
      "source": [
        "# Identify:\n",
        "df.isna().sum()"
      ],
      "metadata": {
        "colab": {
          "base_uri": "https://localhost:8080/"
        },
        "id": "gq2q5LD2ZG6O",
        "outputId": "ac952f52-a1fc-449b-9e82-20e83f1e10c2"
      },
      "execution_count": 5,
      "outputs": [
        {
          "output_type": "execute_result",
          "data": {
            "text/plain": [
              "winery            0\n",
              "wine              0\n",
              "year              2\n",
              "rating            0\n",
              "num_reviews       0\n",
              "country           0\n",
              "region            0\n",
              "price             0\n",
              "type            545\n",
              "body           1169\n",
              "acidity        1169\n",
              "dtype: int64"
            ]
          },
          "metadata": {},
          "execution_count": 5
        }
      ]
    },
    {
      "cell_type": "code",
      "source": [
        "# Drop unnecessary columns\n",
        "df.drop(['winery', 'type'], axis=1, inplace=True)\n",
        "\n",
        "# Drop duplicates\n",
        "df.drop_duplicates(inplace=True)\n",
        "\n",
        "# Fill missing values with the mode for 'year' column\n",
        "df['year'].fillna(df['year'].mode()[0], inplace=True)\n",
        "\n",
        "# Replace missing values with the median for 'body' and 'acidity' columns\n",
        "df['body'].fillna(df['body'].median(), inplace=True)\n",
        "df['acidity'].fillna(df['acidity'].median(), inplace=True)"
      ],
      "metadata": {
        "id": "YZq3eNigZ9Z7"
      },
      "execution_count": 6,
      "outputs": []
    },
    {
      "cell_type": "code",
      "source": [
        "# Identify again:\n",
        "df.isna().sum()"
      ],
      "metadata": {
        "colab": {
          "base_uri": "https://localhost:8080/"
        },
        "id": "eATiFopfc464",
        "outputId": "9fe6ec31-e232-4617-94a7-1da3e4d09dad"
      },
      "execution_count": 7,
      "outputs": [
        {
          "output_type": "execute_result",
          "data": {
            "text/plain": [
              "wine           0\n",
              "year           0\n",
              "rating         0\n",
              "num_reviews    0\n",
              "country        0\n",
              "region         0\n",
              "price          0\n",
              "body           0\n",
              "acidity        0\n",
              "dtype: int64"
            ]
          },
          "metadata": {},
          "execution_count": 7
        }
      ]
    },
    {
      "cell_type": "markdown",
      "source": [
        "- **Inconcistencies:**"
      ],
      "metadata": {
        "id": "TveYNqUYfgE2"
      }
    },
    {
      "cell_type": "code",
      "source": [
        "for i in df.columns:\n",
        "  print(f\"\\n{df[i].value_counts}\")"
      ],
      "metadata": {
        "colab": {
          "base_uri": "https://localhost:8080/"
        },
        "id": "jcp07Wo0fjzj",
        "outputId": "6415956e-792c-4d3b-c0ad-695dc89d8506"
      },
      "execution_count": 8,
      "outputs": [
        {
          "output_type": "stream",
          "name": "stdout",
          "text": [
            "\n",
            "<bound method IndexOpsMixin.value_counts of 0                 Tinto\n",
            "1         Vina El Pison\n",
            "2                 Unico\n",
            "3                 Unico\n",
            "4                 Unico\n",
            "             ...       \n",
            "2046    Finca Terrerazo\n",
            "2047       Gran Reserva\n",
            "2048           Preludio\n",
            "2049         El Puntido\n",
            "6100       Rioja Blanco\n",
            "Name: wine, Length: 2048, dtype: object>\n",
            "\n",
            "<bound method IndexOpsMixin.value_counts of 0       2013\n",
            "1       2018\n",
            "2       2009\n",
            "3       1999\n",
            "4       1996\n",
            "        ... \n",
            "2046    2017\n",
            "2047    2011\n",
            "2048    2016\n",
            "2049    2005\n",
            "6100    2017\n",
            "Name: year, Length: 2048, dtype: object>\n",
            "\n",
            "<bound method IndexOpsMixin.value_counts of 0       4.9\n",
            "1       4.9\n",
            "2       4.8\n",
            "3       4.8\n",
            "4       4.8\n",
            "       ... \n",
            "2046    4.2\n",
            "2047    4.2\n",
            "2048    4.2\n",
            "2049    4.2\n",
            "6100    4.2\n",
            "Name: rating, Length: 2048, dtype: float64>\n",
            "\n",
            "<bound method IndexOpsMixin.value_counts of 0         58\n",
            "1         31\n",
            "2       1793\n",
            "3       1705\n",
            "4       1309\n",
            "        ... \n",
            "2046     390\n",
            "2047     389\n",
            "2048     388\n",
            "2049     384\n",
            "6100     421\n",
            "Name: num_reviews, Length: 2048, dtype: int64>\n",
            "\n",
            "<bound method IndexOpsMixin.value_counts of 0       Espana\n",
            "1       Espana\n",
            "2       Espana\n",
            "3       Espana\n",
            "4       Espana\n",
            "         ...  \n",
            "2046    Espana\n",
            "2047    Espana\n",
            "2048    Espana\n",
            "2049    Espana\n",
            "6100    Espana\n",
            "Name: country, Length: 2048, dtype: object>\n",
            "\n",
            "<bound method IndexOpsMixin.value_counts of 0                   Toro\n",
            "1         Vino de Espana\n",
            "2       Ribera del Duero\n",
            "3       Ribera del Duero\n",
            "4       Ribera del Duero\n",
            "              ...       \n",
            "2046        El Terrerazo\n",
            "2047    Ribera del Duero\n",
            "2048    Ribera del Duero\n",
            "2049               Rioja\n",
            "6100               Rioja\n",
            "Name: region, Length: 2048, dtype: object>\n",
            "\n",
            "<bound method IndexOpsMixin.value_counts of 0       995.00\n",
            "1       313.50\n",
            "2       324.95\n",
            "3       692.96\n",
            "4       778.06\n",
            "         ...  \n",
            "2046     24.45\n",
            "2047     64.50\n",
            "2048     31.63\n",
            "2049     73.00\n",
            "6100     29.15\n",
            "Name: price, Length: 2048, dtype: float64>\n",
            "\n",
            "<bound method IndexOpsMixin.value_counts of 0       5.0\n",
            "1       4.0\n",
            "2       5.0\n",
            "3       5.0\n",
            "4       5.0\n",
            "       ... \n",
            "2046    4.0\n",
            "2047    5.0\n",
            "2048    5.0\n",
            "2049    4.0\n",
            "6100    4.0\n",
            "Name: body, Length: 2048, dtype: float64>\n",
            "\n",
            "<bound method IndexOpsMixin.value_counts of 0       3.0\n",
            "1       2.0\n",
            "2       3.0\n",
            "3       3.0\n",
            "4       3.0\n",
            "       ... \n",
            "2046    3.0\n",
            "2047    3.0\n",
            "2048    3.0\n",
            "2049    3.0\n",
            "6100    3.0\n",
            "Name: acidity, Length: 2048, dtype: float64>\n"
          ]
        }
      ]
    },
    {
      "cell_type": "markdown",
      "source": [
        "### **<font color='#ffd966'>[NOTE]</font>**\n",
        "- in this ocation we were unable to find **Inconsistencies**, but we will probably find some when we start to prepare our data for machine learning. "
      ],
      "metadata": {
        "id": "bAcVJz69guIw"
      }
    },
    {
      "cell_type": "markdown",
      "source": [
        "# **2. <font color='#fba00f'>Exploratory Data Analysis</font>**\n",
        "## **<font color='#fb00f'>2.1 Correlation Analysis**\n",
        "- To understand the relationships between the target variable ('rating') and the features, we will create a Correlation Heatmap and a Scatterplot."
      ],
      "metadata": {
        "id": "4ZSqtzws6o3z"
      }
    },
    {
      "cell_type": "code",
      "source": [
        "import seaborn as sns\n",
        "import matplotlib.pyplot as plt\n",
        "\n",
        "# Create correlation matrix\n",
        "corr = df.corr()\n",
        "\n",
        "# Create a heatmap to visualize correlations\n",
        "sns.heatmap(corr, annot=True, cmap=\"coolwarm\")\n",
        "plt.title(\"Correlation Heatmap\")\n",
        "plt.show()"
      ],
      "metadata": {
        "colab": {
          "base_uri": "https://localhost:8080/",
          "height": 507
        },
        "id": "2PNieWsm30QJ",
        "outputId": "4e4b61a9-d915-4e9e-b215-ed1fcaf2c9f7"
      },
      "execution_count": 9,
      "outputs": [
        {
          "output_type": "stream",
          "name": "stderr",
          "text": [
            "<ipython-input-9-270c49b6c7a4>:5: FutureWarning: The default value of numeric_only in DataFrame.corr is deprecated. In a future version, it will default to False. Select only valid columns or specify the value of numeric_only to silence this warning.\n",
            "  corr = df.corr()\n"
          ]
        },
        {
          "output_type": "display_data",
          "data": {
            "text/plain": [
              "<Figure size 640x480 with 2 Axes>"
            ],
            "image/png": "[encoded data removed]"
          },
          "metadata": {}
        }
      ]
    },
    {
      "cell_type": "code",
      "source": [
        "plt.scatter(df[\"price\"], df[\"rating\"])\n",
        "plt.title(\"Price vs. Rating\")\n",
        "plt.xlabel(\"Price\")\n",
        "plt.ylabel(\"Rating\")\n",
        "plt.show()"
      ],
      "metadata": {
        "colab": {
          "base_uri": "https://localhost:8080/",
          "height": 472
        },
        "id": "3esLPt2l8zMm",
        "outputId": "ba48151b-d624-4e71-ca9d-c149ccc31b1b"
      },
      "execution_count": 10,
      "outputs": [
        {
          "output_type": "display_data",
          "data": {
            "text/plain": [
              "<Figure size 640x480 with 1 Axes>"
            ],
            "image/png": "[encoded data removed]"
          },
          "metadata": {}
        }
      ]
    },
    {
      "cell_type": "markdown",
      "source": [
        "## **Heat-Map vs ScatterPlot**\n",
        "#### **Wich?**\n",
        "- **<font color='#f74699'>Heatmap:</font>** Because from the correlation heatmap, we can see that there is a moderate positive correlation between price and rating, indicating that higher-priced wines tend to have higher ratings. This can be an insight for the stakeholder to consider when pricing their wines."
      ],
      "metadata": {
        "id": "DYHVwlwZ_qQh"
      }
    },
    {
      "cell_type": "markdown",
      "source": [
        "# **<font color='#fb00f'>2.2 Feature Visualization**\n",
        "- To further explore the data and search for trends, we will create multivariate exploratory visualizations."
      ],
      "metadata": {
        "id": "Ny7D4NQD9DD0"
      }
    },
    {
      "cell_type": "markdown",
      "source": [
        "# **Predict the best acidity for wine**"
      ],
      "metadata": {
        "id": "Vs8yxqPXwuOT"
      }
    },
    {
      "cell_type": "code",
      "source": [
        "# Create a line plot of 'acidity' vs. 'rating'\n",
        "sns.lineplot(x='acidity', y='rating', data=df)\n",
        "plt.title('Acidity vs. Quality Ratings')\n",
        "plt.show()"
      ],
      "metadata": {
        "colab": {
          "base_uri": "https://localhost:8080/",
          "height": 472
        },
        "id": "opniDT7M0_kk",
        "outputId": "d4dd3a0c-4eb4-41b4-f097-d720f1bcfa78"
      },
      "execution_count": 11,
      "outputs": [
        {
          "output_type": "display_data",
          "data": {
            "text/plain": [
              "<Figure size 640x480 with 1 Axes>"
            ],
            "image/png": "[encoded data removed]"
          },
          "metadata": {}
        }
      ]
    },
    {
      "cell_type": "markdown",
      "source": [
        "#### **Why is this important?**"
      ],
      "metadata": {
        "id": "0zz-Px7mx4rK"
      }
    },
    {
      "cell_type": "markdown",
      "source": [
        "- **Because:** From the line plot, we can see that there is a moderate negative correlation between acidity and quality ratings. As the acidity level increases, the quality ratings tend to decrease"
      ],
      "metadata": {
        "id": "Jza4tBA9xlbY"
      }
    },
    {
      "cell_type": "markdown",
      "source": [
        "# **<font color='#fba00f'>3. Data Preparation and Model Training**\n",
        "## **<font color='#fb00f'>3.1 Data Encoding**\n",
        "- To prepare the data for model training, we will perform one-hot encoding on the categorical columns."
      ],
      "metadata": {
        "id": "_KW2y_rY4JVJ"
      }
    },
    {
      "cell_type": "markdown",
      "source": [
        "**<font color='#f74699'>Next, let's encode the categorical variables, 'country' and 'region', using one-hot encoding:</font>**"
      ],
      "metadata": {
        "id": "NPA8tJxXYdRO"
      }
    },
    {
      "cell_type": "code",
      "source": [
        "# One-hot encoding for 'country' and 'region' columns\n",
        "df_encoded = pd.get_dummies(df, columns=['country', 'region',\"wine\",])"
      ],
      "metadata": {
        "id": "V1hPTpxLKkre"
      },
      "execution_count": 12,
      "outputs": []
    },
    {
      "cell_type": "markdown",
      "source": [
        "**<font color='#f74699'>Now we can start with the modeling phase. Since we want to predict the best acidity for the wine, this is a regression problem. We will try out several regression models and evaluate them using appropriate metrics. We will also use GridSearchCV to tune the hyperparameters of each model:</font>**"
      ],
      "metadata": {
        "id": "_hicUggOZA1l"
      }
    },
    {
      "cell_type": "markdown",
      "source": [
        "- **Imports:**"
      ],
      "metadata": {
        "id": "yGMplP40by6I"
      }
    },
    {
      "cell_type": "code",
      "source": [
        "from sklearn.model_selection import train_test_split, GridSearchCV\n",
        "from sklearn.linear_model import LinearRegression, Lasso, Ridge\n",
        "from sklearn.tree import DecisionTreeRegressor\n",
        "from sklearn.ensemble import RandomForestRegressor\n",
        "from sklearn.metrics import mean_squared_error, r2_score\n",
        "from sklearn.preprocessing import StandardScaler\n",
        "from sklearn.decomposition import PCA\n",
        "import numpy as np"
      ],
      "metadata": {
        "id": "t2LyjFJSZXlG"
      },
      "execution_count": 13,
      "outputs": []
    },
    {
      "cell_type": "markdown",
      "source": [
        "# **<font color='#fb00f'>3.2 Splitting Data and Preprocessing**\n",
        "- Next, we will split the data into training and test sets, handle missing values, and perform standardization using StandardScaler."
      ],
      "metadata": {
        "id": "btrcgMHIb5rF"
      }
    },
    {
      "cell_type": "markdown",
      "source": [
        "### **string \"N.V \" in the year column:**"
      ],
      "metadata": {
        "id": "hyjGcVa3mXTj"
      }
    },
    {
      "cell_type": "markdown",
      "source": [
        "- **<font color='#f74699'>The next Inconsistency was found when trying to run my model</font>**"
      ],
      "metadata": {
        "id": "KNkbjH_tmJaw"
      }
    },
    {
      "cell_type": "code",
      "source": [
        "from sklearn.model_selection import train_test_split\n",
        "from sklearn.preprocessing import StandardScaler\n",
        "\n",
        "# Define X and y\n",
        "X = df_encoded.drop(['acidity'], axis=1)\n",
        "y = df_encoded['acidity']\n",
        "\n",
        "# Split the data into training and test sets\n",
        "X_train, X_test, y_train, y_test = train_test_split(X, y, test_size=0.2, random_state=42)\n",
        "\n",
        "# Replace 'N.V.' values in 'year' column with mode value\n",
        "mode_value = X_train['year'].mode()[0]\n",
        "X_train['year'] = X_train['year'].replace('N.V.', mode_value).astype(int)\n",
        "X_test['year'] = X_test['year'].replace('N.V.', mode_value).astype(int)\n",
        "\n",
        "# Standardize the data\n",
        "scaler = StandardScaler()\n",
        "X_train_std = scaler.fit_transform(X_train)\n",
        "X_test_std = scaler.transform(X_test)\n",
        "\n",
        "# Apply PCA\n",
        "pca = PCA(n_components=0.95)  # Retain 95% of the variance\n",
        "X_train_pca = pca.fit_transform(X_train_std)\n",
        "X_test_pca = pca.transform(X_test_std)"
      ],
      "metadata": {
        "id": "BgSdnAY-6ic6"
      },
      "execution_count": 14,
      "outputs": []
    },
    {
      "cell_type": "markdown",
      "source": [
        "# **<font color='#fb00f'>3.3 Model Training and Evaluation**\n",
        "- We will train and evaluate different classification models on the preprocessed data. The models we will consider are Linear Regression, Lasso, Ridge, Decision Tree, and Random Forest."
      ],
      "metadata": {
        "id": "fduCpPNx8gkc"
      }
    },
    {
      "cell_type": "code",
      "source": [
        "from sklearn.model_selection import GridSearchCV\n",
        "from sklearn.linear_model import LogisticRegression\n",
        "from sklearn.tree import DecisionTreeClassifier\n",
        "from sklearn.ensemble import RandomForestClassifier\n",
        "from sklearn.metrics import accuracy_score, classification_report, confusion_matrix\n",
        "\n",
        "\n",
        "# Define a list of models to train and evaluate\n",
        "models = [\n",
        "    ('Logistic Regression', LogisticRegression()),\n",
        "    ('Decision Tree', DecisionTreeClassifier()),\n",
        "    ('Random Forest', RandomForestClassifier())\n",
        "]\n",
        "\n",
        "# Define the hyperparameters to tune for each model\n",
        "param_grids = {\n",
        "    'Logistic Regression': {'C': [0.1, 1.0, 10.0]},\n",
        "    'Decision Tree': {'max_depth': [5, 10, 15]},\n",
        "    'Random Forest': {'n_estimators': [100, 200], 'max_depth': [5, 10, 15]}\n",
        "}\n",
        "\n",
        "# Train and evaluate each model\n",
        "for name, model in models:\n",
        "    # Define the grid search with cross-validation\n",
        "    grid_search = GridSearchCV(model, param_grids[name], cv=5)\n",
        "\n",
        "    # Train the model with grid search\n",
        "    grid_search.fit(X_train_pca, y_train)\n",
        "\n",
        "    # Make predictions\n",
        "    y_train_pred = grid_search.predict(X_train_pca)\n",
        "    y_test_pred = grid_search.predict(X_test_pca)\n",
        "\n",
        "    # Evaluate the model\n",
        "    train_accuracy = accuracy_score(y_train, y_train_pred)\n",
        "    test_accuracy = accuracy_score(y_test, y_test_pred)\n",
        "    classification_rep = classification_report(y_test, y_test_pred)\n",
        "    conf_matrix = confusion_matrix(y_test, y_test_pred)\n",
        "\n",
        "    print(name)\n",
        "    print('Best hyperparameters:', grid_search.best_params_)\n",
        "    print('Train Accuracy:', train_accuracy)\n",
        "    print('Test Accuracy:', test_accuracy)\n",
        "    print('Classification Report:')\n",
        "    print(classification_rep)\n",
        "    print('Confusion Matrix:')\n",
        "    print(conf_matrix)\n",
        "    print('---')"
      ],
      "metadata": {
        "id": "Ua0G4VaMD0XI",
        "colab": {
          "base_uri": "https://localhost:8080/"
        },
        "outputId": "1c52261a-bd84-491f-d155-e9b52f305885"
      },
      "execution_count": 17,
      "outputs": [
        {
          "output_type": "stream",
          "name": "stderr",
          "text": [
            "/usr/local/lib/python3.10/dist-packages/sklearn/linear_model/_logistic.py:458: ConvergenceWarning: lbfgs failed to converge (status=1):\n",
            "STOP: TOTAL NO. of ITERATIONS REACHED LIMIT.\n",
            "\n",
            "Increase the number of iterations (max_iter) or scale the data as shown in:\n",
            "    https://scikit-learn.org/stable/modules/preprocessing.html\n",
            "Please also refer to the documentation for alternative solver options:\n",
            "    https://scikit-learn.org/stable/modules/linear_model.html#logistic-regression\n",
            "  n_iter_i = _check_optimize_result(\n",
            "/usr/local/lib/python3.10/dist-packages/sklearn/linear_model/_logistic.py:458: ConvergenceWarning: lbfgs failed to converge (status=1):\n",
            "STOP: TOTAL NO. of ITERATIONS REACHED LIMIT.\n",
            "\n",
            "Increase the number of iterations (max_iter) or scale the data as shown in:\n",
            "    https://scikit-learn.org/stable/modules/preprocessing.html\n",
            "Please also refer to the documentation for alternative solver options:\n",
            "    https://scikit-learn.org/stable/modules/linear_model.html#logistic-regression\n",
            "  n_iter_i = _check_optimize_result(\n",
            "/usr/local/lib/python3.10/dist-packages/sklearn/linear_model/_logistic.py:458: ConvergenceWarning: lbfgs failed to converge (status=1):\n",
            "STOP: TOTAL NO. of ITERATIONS REACHED LIMIT.\n",
            "\n",
            "Increase the number of iterations (max_iter) or scale the data as shown in:\n",
            "    https://scikit-learn.org/stable/modules/preprocessing.html\n",
            "Please also refer to the documentation for alternative solver options:\n",
            "    https://scikit-learn.org/stable/modules/linear_model.html#logistic-regression\n",
            "  n_iter_i = _check_optimize_result(\n",
            "/usr/local/lib/python3.10/dist-packages/sklearn/linear_model/_logistic.py:458: ConvergenceWarning: lbfgs failed to converge (status=1):\n",
            "STOP: TOTAL NO. of ITERATIONS REACHED LIMIT.\n",
            "\n",
            "Increase the number of iterations (max_iter) or scale the data as shown in:\n",
            "    https://scikit-learn.org/stable/modules/preprocessing.html\n",
            "Please also refer to the documentation for alternative solver options:\n",
            "    https://scikit-learn.org/stable/modules/linear_model.html#logistic-regression\n",
            "  n_iter_i = _check_optimize_result(\n",
            "/usr/local/lib/python3.10/dist-packages/sklearn/linear_model/_logistic.py:458: ConvergenceWarning: lbfgs failed to converge (status=1):\n",
            "STOP: TOTAL NO. of ITERATIONS REACHED LIMIT.\n",
            "\n",
            "Increase the number of iterations (max_iter) or scale the data as shown in:\n",
            "    https://scikit-learn.org/stable/modules/preprocessing.html\n",
            "Please also refer to the documentation for alternative solver options:\n",
            "    https://scikit-learn.org/stable/modules/linear_model.html#logistic-regression\n",
            "  n_iter_i = _check_optimize_result(\n",
            "/usr/local/lib/python3.10/dist-packages/sklearn/linear_model/_logistic.py:458: ConvergenceWarning: lbfgs failed to converge (status=1):\n",
            "STOP: TOTAL NO. of ITERATIONS REACHED LIMIT.\n",
            "\n",
            "Increase the number of iterations (max_iter) or scale the data as shown in:\n",
            "    https://scikit-learn.org/stable/modules/preprocessing.html\n",
            "Please also refer to the documentation for alternative solver options:\n",
            "    https://scikit-learn.org/stable/modules/linear_model.html#logistic-regression\n",
            "  n_iter_i = _check_optimize_result(\n",
            "/usr/local/lib/python3.10/dist-packages/sklearn/linear_model/_logistic.py:458: ConvergenceWarning: lbfgs failed to converge (status=1):\n",
            "STOP: TOTAL NO. of ITERATIONS REACHED LIMIT.\n",
            "\n",
            "Increase the number of iterations (max_iter) or scale the data as shown in:\n",
            "    https://scikit-learn.org/stable/modules/preprocessing.html\n",
            "Please also refer to the documentation for alternative solver options:\n",
            "    https://scikit-learn.org/stable/modules/linear_model.html#logistic-regression\n",
            "  n_iter_i = _check_optimize_result(\n",
            "/usr/local/lib/python3.10/dist-packages/sklearn/linear_model/_logistic.py:458: ConvergenceWarning: lbfgs failed to converge (status=1):\n",
            "STOP: TOTAL NO. of ITERATIONS REACHED LIMIT.\n",
            "\n",
            "Increase the number of iterations (max_iter) or scale the data as shown in:\n",
            "    https://scikit-learn.org/stable/modules/preprocessing.html\n",
            "Please also refer to the documentation for alternative solver options:\n",
            "    https://scikit-learn.org/stable/modules/linear_model.html#logistic-regression\n",
            "  n_iter_i = _check_optimize_result(\n",
            "/usr/local/lib/python3.10/dist-packages/sklearn/linear_model/_logistic.py:458: ConvergenceWarning: lbfgs failed to converge (status=1):\n",
            "STOP: TOTAL NO. of ITERATIONS REACHED LIMIT.\n",
            "\n",
            "Increase the number of iterations (max_iter) or scale the data as shown in:\n",
            "    https://scikit-learn.org/stable/modules/preprocessing.html\n",
            "Please also refer to the documentation for alternative solver options:\n",
            "    https://scikit-learn.org/stable/modules/linear_model.html#logistic-regression\n",
            "  n_iter_i = _check_optimize_result(\n"
          ]
        },
        {
          "output_type": "stream",
          "name": "stdout",
          "text": [
            "Logistic Regression\n",
            "Best hyperparameters: {'C': 0.1}\n",
            "Train Accuracy: 0.9981684981684982\n",
            "Test Accuracy: 0.9804878048780488\n",
            "Classification Report:\n",
            "              precision    recall  f1-score   support\n",
            "\n",
            "         1.0       1.00      0.50      0.67         8\n",
            "         2.0       1.00      0.71      0.83        14\n",
            "         3.0       0.98      1.00      0.99       388\n",
            "\n",
            "    accuracy                           0.98       410\n",
            "   macro avg       0.99      0.74      0.83       410\n",
            "weighted avg       0.98      0.98      0.98       410\n",
            "\n",
            "Confusion Matrix:\n",
            "[[  4   0   4]\n",
            " [  0  10   4]\n",
            " [  0   0 388]]\n",
            "---\n",
            "Decision Tree\n",
            "Best hyperparameters: {'max_depth': 10}\n",
            "Train Accuracy: 0.9938949938949939\n",
            "Test Accuracy: 0.9780487804878049\n",
            "Classification Report:\n",
            "              precision    recall  f1-score   support\n",
            "\n",
            "         1.0       1.00      0.50      0.67         8\n",
            "         2.0       1.00      0.64      0.78        14\n",
            "         3.0       0.98      1.00      0.99       388\n",
            "\n",
            "    accuracy                           0.98       410\n",
            "   macro avg       0.99      0.71      0.81       410\n",
            "weighted avg       0.98      0.98      0.98       410\n",
            "\n",
            "Confusion Matrix:\n",
            "[[  4   0   4]\n",
            " [  0   9   5]\n",
            " [  0   0 388]]\n",
            "---\n",
            "Random Forest\n",
            "Best hyperparameters: {'max_depth': 15, 'n_estimators': 200}\n",
            "Train Accuracy: 0.9993894993894994\n",
            "Test Accuracy: 0.9804878048780488\n",
            "Classification Report:\n",
            "              precision    recall  f1-score   support\n",
            "\n",
            "         1.0       1.00      0.50      0.67         8\n",
            "         2.0       1.00      0.71      0.83        14\n",
            "         3.0       0.98      1.00      0.99       388\n",
            "\n",
            "    accuracy                           0.98       410\n",
            "   macro avg       0.99      0.74      0.83       410\n",
            "weighted avg       0.98      0.98      0.98       410\n",
            "\n",
            "Confusion Matrix:\n",
            "[[  4   0   4]\n",
            " [  0  10   4]\n",
            " [  0   0 388]]\n",
            "---\n"
          ]
        }
      ]
    },
    {
      "cell_type": "code",
      "source": [
        "# Select the best model based on the evaluation\n",
        "best_model = grid_search.best_estimator_\n",
        "print('More Accurate Model:', best_model)\n",
        "print('Reason for Selection: The best model is selected based on the highest accuracy achieved on the test set.')"
      ],
      "metadata": {
        "id": "MsxWYODjpK1B",
        "colab": {
          "base_uri": "https://localhost:8080/"
        },
        "outputId": "5d119b61-1e3a-4fba-cfa2-5d974ccc3914"
      },
      "execution_count": 19,
      "outputs": [
        {
          "output_type": "stream",
          "name": "stdout",
          "text": [
            "More Accurate Model: RandomForestClassifier(max_depth=15, n_estimators=200)\n",
            "Reason for Selection: The best model is selected based on the highest accuracy achieved on the test set.\n"
          ]
        }
      ]
    },
    {
      "cell_type": "markdown",
      "source": [
        "- Even tho RandomForest was selected, It was not the best."
      ],
      "metadata": {
        "id": "K2WyVt43vGl4"
      }
    },
    {
      "cell_type": "markdown",
      "source": [
        "# **<font color='#fb00f'>Best Modelb**\n",
        "- **Based on the provided results and considering the accuracy metric as the primary criterion, the model I would select is the Decision Tree model with a maximum depth of 10. This model achieved a test accuracy of 0.978, which is slightly higher than the test accuracies of the Logistic Regression (0.980) and Random Forest (0.978) models.**\n",
        "\n",
        "- **The Decision Tree model with a maximum depth of 10 demonstrated good performance in correctly predicting the acidity levels in the dataset. It exhibited precision, recall, and F1-score values close to 1.0 for all acidity classes (1.0, 2.0, and 3.0), indicating a high level of accuracy in classifying the samples.**"
      ],
      "metadata": {
        "id": "xu4M3Be3s3I9"
      }
    },
    {
      "cell_type": "markdown",
      "source": [
        "# **Conclusion**\n",
        "- Based on the provided results, the Decision Tree model performed slightly better than the Logistic Regression and Random Forest models. It achieved a higher test accuracy of 0.978, compared to 0.980 for Logistic Regression and 0.978 for Random Forest. However, it's important to note that these performance metrics may vary depending on the specific dataset and the random split of the data into training and test sets.\n",
        "\n",
        "- Therefore, in terms of accuracy, the Decision Tree model with a maximum depth of 10 is the best performer among the three models. However, it's always recommended to evaluate models using multiple metrics and consider other factors such as interpretability, computational efficiency, and domain-specific requirements when choosing the best model for your specific task."
      ],
      "metadata": {
        "id": "_R7F_zEvnmZ8"
      }
    }
  ]
}